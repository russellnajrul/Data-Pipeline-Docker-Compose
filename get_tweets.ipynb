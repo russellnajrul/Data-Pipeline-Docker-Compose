{
 "cells": [
  {
   "cell_type": "code",
   "execution_count": 8,
   "id": "90d920c7",
   "metadata": {},
   "outputs": [],
   "source": [
    "import tweepy\n",
    "import twitter_keys\n",
    "client = tweepy.Client(bearer_token=twitter_keys.Bearer_Token)"
   ]
  },
  {
   "cell_type": "code",
   "execution_count": 9,
   "id": "601129cd",
   "metadata": {},
   "outputs": [
    {
     "name": "stdout",
     "output_type": "stream",
     "text": [
      "Response(data=<User id=2913614824 name=Weil wir dich lieben username=BVG_Kampagne>, includes={}, errors=[], meta={})\n"
     ]
    }
   ],
   "source": [
    "bvg=client.get_user(username='BVG_Kampagne', user_fields=['name', 'id', 'created_at'])\n",
    "user=bvg.data\n",
    "print(bvg)"
   ]
  },
  {
   "cell_type": "code",
   "execution_count": 10,
   "id": "343e383d",
   "metadata": {},
   "outputs": [
    {
     "name": "stdout",
     "output_type": "stream",
     "text": [
      "[<Tweet id=1517094184146067456 text='@Eerouge Was genau funktioniert nicht bei dir? Am besten wendest du dich direkt an appsupport@bvg.de'>, <Tweet id=1517093623740911616 text='@KWeisenheim Ähm ahrscheinlich du oer?'>, <Tweet id=1517077052981231616 text='@toddyta2devil Auswärtsfahrt jetzt auch mit uns.'>, <Tweet id=1517066450367827968 text='@DerMestermann Stark. Dürften wir das vielleicht auf unseren Kanälen teilen mit Credits an dich?'>, <Tweet id=1517053329259565056 text='@KMAfranse Anschluss C plus ein Fahrradticket ist in diesem Fall die korrekte Kombi.'>, <Tweet id=1517052947867316226 text='@Mutterdrachen_B Dürften wir das vielleicht auf unseren Kanälen teilen?'>, <Tweet id=1517040365706035201 text='@Chayabell @BVG_Ubahn Sag mal, dürften wir das Bild auf unseren Kanälen posten mit Credits an dich?'>, <Tweet id=1517040279676719106 text='@Chayabell @BVG_Ubahn Die Hoffnung, dass hier auf ein Solero Eis verwiesen wird, stirbt zuletzt!'>, <Tweet id=1516820611720491013 text='@stonroklas Argh, dickes Sorry dafür. Bitte mal an appsupport@bvg.de wenden.'>, <Tweet id=1516820463892193289 text='@A_hungry_Fool Sorry, wir sind dran.'>, <Tweet id=1516793441916755975 text=\"@PtitMoteur For the compliment we'll transfer you the 50€ agreed beforehand.\">, <Tweet id=1516793248467017729 text='@grumpy_copilot Und dann am besten gleich noch ne Bocki zum Sterni uffe Hand? Du träumst ja sehr groß, Freundchen.'>, <Tweet id=1516792924427673610 text='@zifkos @ansgar_baums Dann bitte mal an appsupport@bvg.de wenden.'>, <Tweet id=1516772604874526722 text='@joergnicht 📷 @joergnicht'>, <Tweet id=1516771897777823749 text='Ist schon vorgerollt. https://t.co/3iqn2GhuCR'>, <Tweet id=1516733851476889600 text=\"@PtitMoteur Since it's two merged lines.\">, <Tweet id=1516733634623021058 text='@KampfzwergJoddy Den Hinweis nehmen wir gerne mal mit.'>, <Tweet id=1516733402564734978 text='@zifkos Sorry, unser Team ist dran. In der Zwischenzeit bitte am Automaten, Kiosk oder Kundenzentrum Tickets kaufen.'>, <Tweet id=1516707181802004485 text='@PtitMoteur During the day the M41 goes up until Sonnenallee/Baumschulenstr. And to not have to switch in the night we combined both lines and it becomes the N70.'>, <Tweet id=1516681838676353031 text='@vanila_jp Mal was anderes als Celine Dion Hits aus dem rollbaren Verstärker.'>, <Tweet id=1516681519657590789 text='@muehlenwind Die berühmte BVG Minute ist ein zeitrelatives, philosophisches Konstrukt.'>, <Tweet id=1516680909394747393 text=\"@Geisseltierchen @punkbln @tazgezwitscher Wir sind in der Abstimmung für's Ticket. Sobald wir mehr wissen, werden wir es veröffentlichen.\">, <Tweet id=1516680169162956800 text='@Mutterdrachen_B Tradition muss sein.'>, <Tweet id=1516445461548343302 text='@hideout Wenn du einmal drin landest, ist es schwierig wieder raus zu kommen.'>, <Tweet id=1516445269906362378 text='@PaulaIsSchuld @BVG_Unternehmen Funktioniert auch im Tarifbereich C.'>, <Tweet id=1516427741020753933 text='@mildlydying123 If it actually ended up in our Lost and Found you should receive it back.'>, <Tweet id=1516427298723057675 text='@paazraaf Es handelt sich hierbei nicht um ein Rentner*innen Ticket sondern um ein 65+ Ticket – unabhängig vom Rentnerstatus.'>, <Tweet id=1516408307296124936 text='@NinaHaspel Man sollte sich nur erreichbare Ziele setzen.'>, <Tweet id=1516364300234940419 text='@Satulle We call it: Frühlingsgefühle.'>, <Tweet id=1516353968322093058 text='@Schnipselschnf1 @SBahnBerlin Sag uns gerne, um welche Bahn und Uhrzeit es sich genau gehandelt hat, dann können wir das intern weitergeben.'>, <Tweet id=1516353737702490115 text='@OomenBerlin @DB_Bahn Von wegen Servicewüste Deutschland.'>, <Tweet id=1516353427684700163 text='@SukiViala In der Tat wäre es ideal gewesen direkt ein ABC Ticket zu kaufen. Wenn es für dich nicht ersichtlich ist, wie das in der App funktioniert gib uns gerne detailliertes Feedback dazu.'>, <Tweet id=1516352306379378694 text='@SiBeFH Richtig: Kontrollpersonal muss beim Beginn des Kontrollvorganges den Kontrollausweis unaufgefordert vorzeigen.'>, <Tweet id=1516350543609974786 text='📸: @mirkosw'>, <Tweet id=1516348156593721346 text='Für alle, die beim Radwechsel radlos sind. https://t.co/Pm2USFgat8'>, <Tweet id=1516334503307980800 text='@Ersatz_Bus Auch unsere Busse müssen mal durchatmen.'>, <Tweet id=1516329321719382017 text='@blampe @pavel @ShasuTalks Wir nehmen den Hinweis gern mal mit.'>, <Tweet id=1516324292262350848 text=\"@bunchofnumberz @MissChocolatBee @pavel Wir bringen doch ne Menge auf's Gleis.\">, <Tweet id=1516323474888929282 text='@KWeisenheim Einfach auch gerne mal sein lassen. Grüße, euer Putzteam.'>, <Tweet id=1516323085405851654 text=\"@LustKrapfen Targeting at it's best.\">, <Tweet id=1516322783805980672 text='@basgras If you travel together you should be able to buy tickets for you both.'>, <Tweet id=1516322406088024067 text='@steener_8 Altes Berliner Sprichwort: Alle Wege führen nach Straße.'>, <Tweet id=1516322242585575427 text='@Sionea_ @DenkenGerade Wir sind nicht erfreut und würden euch bitten immer Hinweise an uns zu geben, wenn ihr die seht.'>, <Tweet id=1516322122255187970 text='@fckafdqd2022 Wo auch immer ihr die seht, gebt gern Bescheid.'>, <Tweet id=1516321792289296386 text='@G0LLUM_DE Nope, per App oder im Kundenzentrum und bei Automaten kannst du ja nach wie vor einfach Tickets kaufen.'>, <Tweet id=1516321365246283783 text='@maromuc Eigentlich dann auch direkt dreimal hintereinander.'>, <Tweet id=1516321335433125889 text='@maromuc Eigentlich dann auch direkt dreimal hintereinander.'>, <Tweet id=1516321287660056577 text='@maromuc Eigentlich dann auch direkt dreimal hintereinander.'>, <Tweet id=1516321105698594816 text='@BikerPankow @vonjosbach @gruenewege Ja gab es von der DB Touch &amp; Travel und wurde 2016 eingestellt.'>, <Tweet id=1516320786809823232 text='@ja_sicher Nein, aktuelle Störungen findest du immer unter: https://t.co/CYXD9fDxQ2?'>, <Tweet id=1516320429065052161 text='@Mulinarius @visitberlin Mit Lichtgeschwindigkeit durch das Stargate in eine andere Galaxie.'>, <Tweet id=1516320126534131713 text='@fluepke @Soeren_S Wir nehmen dich so wie du bist.'>, <Tweet id=1516319298305904645 text='@Spacekonsta https://t.co/UgQuwIa2P4'>, <Tweet id=1516312467625984001 text='@reyverzofficial Danke, wir wissen schon Bescheid.'>, <Tweet id=1516312250050568199 text='@FredSmart13 Danke für den Hinweis! Gern immer Bescheid geben, falls ihr die irgendwo entdeckt.'>, <Tweet id=1516311804506427394 text='@Silvio19599258 Danke für den Hinweis, geben wir weiter.'>, <Tweet id=1516311211679309826 text='@freshfluke Urgs...danke für den Hinweis. Geben wir gleich an die Kolleg*innen. Gerne informieren, wann immer ihr auf die Sticker trefft. Danke.'>, <Tweet id=1516310817758752772 text=\"@lazycuttlefish @jonworth @AndyBTravels We are currently working on the final terms for this ticket. As soon as we know we'll post infos on our channels.\">, <Tweet id=1516310203150618624 text='@der_Herr_Horn Im Zweifel dann kein Zweifel.'>, <Tweet id=1516309915366735879 text='@rosaVered @Emmanzipation Busfahrergrüße gehen raus.'>, <Tweet id=1516309606804463622 text=\"@rumijr42 Please leave it there. We'd rather have a melancholic reminder of wild days than you on the tracks.\">, <Tweet id=1516309356727390210 text='@RakuBLN Aber nicht jeder kann gut schnell laufen, da ist das doch eine willkommene Abwechslung.'>, <Tweet id=1516309123947708416 text='@Sebastian_hurra Stark, ein scharfes Auge, dass du unsere Mimikry-Bahn erkannt hast. Dürfen wir das Bild vielleicht mit Nennung auf unseren Kanälen nutzen?'>, <Tweet id=1516308855856283649 text='@Elf_X_Stacy Das ist Kunst, damit kann ich weg.'>, <Tweet id=1516308745441132547 text='@G0LLUM_DE Das wird nicht so bald wiederkommen.'>, <Tweet id=1516308654575792137 text='@maromuc BERLINER DIALEKT LOADING......'>, <Tweet id=1516308516625170433 text='@antaramir Wir sind dran.'>, <Tweet id=1516308085819994119 text=\"@acefrogge Na gut, weil du's bist: 😘\">, <Tweet id=1516307923273764868 text='@dauerbaustelle @SenUMVKBerlin Bei uns fahren zwar viele einen Film, aber dafür können wir jetzt wirklich nichts.'>, <Tweet id=1516307643077435393 text='@Bevi_Mich_Halt Du musst da was falsch verstanden haben beim Claim.'>, <Tweet id=1516307538362441730 text='@hesselmann Meltdown? Wer kennt das nicht nach spätestens zwei Jahren Berlin.'>, <Tweet id=1516305821960966149 text='@biesdorfer83 Für alle, die Retro wirklich ernst nehmen.'>, <Tweet id=1516305416996667394 text='@Motorbiene0319 Gerade im Sommer stellen wir hauptsächlich Zugezogene ein.'>, <Tweet id=1516305259395694595 text='@rotelocke @BVG_Bus Tradition muss sein, gerade an den Feiertagen.'>, <Tweet id=1516304956147613697 text='@mildlydying123 Yes, we do: https://t.co/R51rt5W95X'>, <Tweet id=1515623944656674820 text='📸: @BReguided'>, <Tweet id=1515585858191175683 text='Gilt bei uns das ganze Jahr: Eier immer gut verstecken. https://t.co/YA4psE4xiT'>, <Tweet id=1514649948591173641 text='@pfeffienator @JPProeger Also wir sehen Radfahren immer noch als Einzeldisziplin und nicht als U-Bahn-Triathlon an.'>, <Tweet id=1514648328016904204 text='@extradecoction You should still be able to make a screenshot and send it to the mentioned email address.'>, <Tweet id=1514638058003603463 text='@bln_na @BVG_Tram Unser Kink ist halt eher: Maske auf dem Gesicht.'>, <Tweet id=1514636452151312388 text='@sinafete @DrOetkerPizzaDE MIT DER PIZZA NICHT IN DEN ERSTEN WAGEN!!!'>, <Tweet id=1514635885530263559 text='@LaraMeinunger Tatsächlich ist es so, dass das korrekte Tragen von Masken durch den Sicherheitsdienst kontrolliert wird. Dafür sind 250 Personen im Einsatz. Natürlich können diese aber nicht überall gleichzeitig sein. Die 3G-Regelung gibt es nicht mehr. Inzwischen gilt nur noch Maskenpflicht.'>, <Tweet id=1514594120848842761 text='@thizzyamidala @BVG_Bus Haha also das kannst du hier alles genau nachstudieren: https://t.co/9tyRq1uFdf'>, <Tweet id=1514568086518644740 text='@iak_custom In den Fahrzeugen gilt weiterhin FFP2-Pflicht.'>, <Tweet id=1514535657573605378 text='@GrumpBi Fahrer wurde direkt abgemahnt!!'>, <Tweet id=1514535079145529345 text='@VossVossy Kannst du uns das bitte mit mehr Infos hier melden: https://t.co/OgnK93Y2TM'>, <Tweet id=1514532239081721856 text='@Maurice_2021 Ist natürlich nicht gültig, weil nicht laminiert. Aber dürften wir das vielleicht auf unseren Kanälen teilen mit Credits an dich?'>, <Tweet id=1514530607438745602 text='@_zuzi_ Abmahnung an den Fahrer ist raus!'>, <Tweet id=1514530445471498241 text='@paulvossiek @NilsDettmann Oder du löst dein Ticket einfach auf dem Weg zur Haltestelle bereits, da du die Absicht offenbar schon getroffen hast, die Reise anzutreten.'>, <Tweet id=1514503454730993664 text='@Piratefuchs @BVG_Ubahn Aber bitte nicht mit dem Mistelzweig verwechseln und unbeteiligte Dritte küssen!'>, <Tweet id=1514502861610172419 text='@anteos_ Aber bevor du die Scheidung einreichst, magst du uns dazu hier ein paar mehr Angaben machen? https://t.co/OgnK93Y2TM'>, <Tweet id=1514502674905014281 text='@anteos_ Kennen viele so schon aus ihrer Ehe.'>, <Tweet id=1514286354242408448 text='@Twittata Es tut uns ehrlich leid, aber wirklich nur dann ist das Ticket gültig. So kann die Zugehörigkeit 1:1 nachgewiesen werden.'>, <Tweet id=1514285955598929922 text='@slurm_mckenzy @biesdorfer83 Ab ins Trainingszentrum!'>, <Tweet id=1514284503929442312 text='@TobiasBringmann @BVG_Bus Jetzt ist das schon extra unsere Touristenbuslinie und nicht einmal da können sie kurz ins Guidebook schauen? Aber direkt hinter der vollen Rolltreppe gehts, wa? Meene Jüte ey.'>, <Tweet id=1514284157148581888 text='@slurm_mckenzy @biesdorfer83 Auf ihn is Verlass.'>, <Tweet id=1514284064521478148 text='@Twittata Wenn die Nummer nicht eingetragen wurde, ist der Fahrausweis leider wirklich ungültig.'>, <Tweet id=1514283927745224718 text='@extradecoction Sorry for the inconvenience. Did you try to contact appsupport@bvg.de about it?'>, <Tweet id=1514274001857781761 text='@freehippiegirl Das Beschwerdeformular sollte reichen, danke.'>, <Tweet id=1514262272927055885 text='@freehippiegirl Wie an anderer Stelle geschrieben, der Vorfall tut uns leid. Wir würden dich bitten die Situation bei info@bvg.de zu schildern, damit wir den Kollegen ansprechen können.'>]\n"
     ]
    }
   ],
   "source": [
    "bvg_tweets = client.get_users_tweets(id=user.id, tweet_fields=['id', 'text', 'created_at'], max_results=100)\n",
    "print(bvg_tweets.data)"
   ]
  },
  {
   "cell_type": "code",
   "execution_count": 11,
   "id": "6f0e75d9",
   "metadata": {},
   "outputs": [
    {
     "data": {
      "text/plain": [
       "{'id': 2913614824,\n",
       " 'created_at': datetime.datetime(2014, 12, 10, 10, 57, tzinfo=datetime.timezone.utc),\n",
       " 'username': 'BVG_Kampagne',\n",
       " 'name': 'Weil wir dich lieben'}"
      ]
     },
     "execution_count": 11,
     "metadata": {},
     "output_type": "execute_result"
    }
   ],
   "source": [
    "dict(user)"
   ]
  },
  {
   "cell_type": "code",
   "execution_count": 12,
   "id": "4a9786cf",
   "metadata": {},
   "outputs": [
    {
     "name": "stdout",
     "output_type": "stream",
     "text": [
      "the user with name Weil wir dich lieben and ID 2913614824 created their twitter account on 2014-12-10 10:57:00+00:00\n"
     ]
    }
   ],
   "source": [
    "print(f'the user with name {user.name} and ID {user.id} created their twitter account on {user.created_at}')"
   ]
  },
  {
   "cell_type": "code",
   "execution_count": 13,
   "id": "18a330bc",
   "metadata": {},
   "outputs": [
    {
     "name": "stdout",
     "output_type": "stream",
     "text": [
      "The user Weil wir dich lieben at 2022-04-21 10:53:34+00:00 wrote: @Eerouge Was genau funktioniert nicht bei dir? Am besten wendest du dich direkt an appsupport@bvg.de\n",
      "\n",
      "The user Weil wir dich lieben at 2022-04-21 10:51:20+00:00 wrote: @KWeisenheim Ähm ahrscheinlich du oer?\n",
      "\n",
      "The user Weil wir dich lieben at 2022-04-21 09:45:30+00:00 wrote: @toddyta2devil Auswärtsfahrt jetzt auch mit uns.\n",
      "\n",
      "The user Weil wir dich lieben at 2022-04-21 09:03:22+00:00 wrote: @DerMestermann Stark. Dürften wir das vielleicht auf unseren Kanälen teilen mit Credits an dich?\n",
      "\n",
      "The user Weil wir dich lieben at 2022-04-21 08:11:13+00:00 wrote: @KMAfranse Anschluss C plus ein Fahrradticket ist in diesem Fall die korrekte Kombi.\n",
      "\n",
      "The user Weil wir dich lieben at 2022-04-21 08:09:42+00:00 wrote: @Mutterdrachen_B Dürften wir das vielleicht auf unseren Kanälen teilen?\n",
      "\n",
      "The user Weil wir dich lieben at 2022-04-21 07:19:43+00:00 wrote: @Chayabell @BVG_Ubahn Sag mal, dürften wir das Bild auf unseren Kanälen posten mit Credits an dich?\n",
      "\n",
      "The user Weil wir dich lieben at 2022-04-21 07:19:22+00:00 wrote: @Chayabell @BVG_Ubahn Die Hoffnung, dass hier auf ein Solero Eis verwiesen wird, stirbt zuletzt!\n",
      "\n",
      "The user Weil wir dich lieben at 2022-04-20 16:46:29+00:00 wrote: @stonroklas Argh, dickes Sorry dafür. Bitte mal an appsupport@bvg.de wenden.\n",
      "\n",
      "The user Weil wir dich lieben at 2022-04-20 16:45:54+00:00 wrote: @A_hungry_Fool Sorry, wir sind dran.\n",
      "\n",
      "The user Weil wir dich lieben at 2022-04-20 14:58:31+00:00 wrote: @PtitMoteur For the compliment we'll transfer you the 50€ agreed beforehand.\n",
      "\n",
      "The user Weil wir dich lieben at 2022-04-20 14:57:45+00:00 wrote: @grumpy_copilot Und dann am besten gleich noch ne Bocki zum Sterni uffe Hand? Du träumst ja sehr groß, Freundchen.\n",
      "\n",
      "The user Weil wir dich lieben at 2022-04-20 14:56:28+00:00 wrote: @zifkos @ansgar_baums Dann bitte mal an appsupport@bvg.de wenden.\n",
      "\n",
      "The user Weil wir dich lieben at 2022-04-20 13:35:43+00:00 wrote: @joergnicht 📷 @joergnicht\n",
      "\n",
      "The user Weil wir dich lieben at 2022-04-20 13:32:55+00:00 wrote: Ist schon vorgerollt. https://t.co/3iqn2GhuCR\n",
      "\n",
      "The user Weil wir dich lieben at 2022-04-20 11:01:44+00:00 wrote: @PtitMoteur Since it's two merged lines.\n",
      "\n",
      "The user Weil wir dich lieben at 2022-04-20 11:00:52+00:00 wrote: @KampfzwergJoddy Den Hinweis nehmen wir gerne mal mit.\n",
      "\n",
      "The user Weil wir dich lieben at 2022-04-20 10:59:57+00:00 wrote: @zifkos Sorry, unser Team ist dran. In der Zwischenzeit bitte am Automaten, Kiosk oder Kundenzentrum Tickets kaufen.\n",
      "\n",
      "The user Weil wir dich lieben at 2022-04-20 09:15:45+00:00 wrote: @PtitMoteur During the day the M41 goes up until Sonnenallee/Baumschulenstr. And to not have to switch in the night we combined both lines and it becomes the N70.\n",
      "\n",
      "The user Weil wir dich lieben at 2022-04-20 07:35:03+00:00 wrote: @vanila_jp Mal was anderes als Celine Dion Hits aus dem rollbaren Verstärker.\n",
      "\n",
      "The user Weil wir dich lieben at 2022-04-20 07:33:47+00:00 wrote: @muehlenwind Die berühmte BVG Minute ist ein zeitrelatives, philosophisches Konstrukt.\n",
      "\n",
      "The user Weil wir dich lieben at 2022-04-20 07:31:22+00:00 wrote: @Geisseltierchen @punkbln @tazgezwitscher Wir sind in der Abstimmung für's Ticket. Sobald wir mehr wissen, werden wir es veröffentlichen.\n",
      "\n",
      "The user Weil wir dich lieben at 2022-04-20 07:28:25+00:00 wrote: @Mutterdrachen_B Tradition muss sein.\n",
      "\n",
      "The user Weil wir dich lieben at 2022-04-19 15:55:46+00:00 wrote: @hideout Wenn du einmal drin landest, ist es schwierig wieder raus zu kommen.\n",
      "\n",
      "The user Weil wir dich lieben at 2022-04-19 15:55:01+00:00 wrote: @PaulaIsSchuld @BVG_Unternehmen Funktioniert auch im Tarifbereich C.\n",
      "\n",
      "The user Weil wir dich lieben at 2022-04-19 14:45:21+00:00 wrote: @mildlydying123 If it actually ended up in our Lost and Found you should receive it back.\n",
      "\n",
      "The user Weil wir dich lieben at 2022-04-19 14:43:36+00:00 wrote: @paazraaf Es handelt sich hierbei nicht um ein Rentner*innen Ticket sondern um ein 65+ Ticket – unabhängig vom Rentnerstatus.\n",
      "\n",
      "The user Weil wir dich lieben at 2022-04-19 13:28:08+00:00 wrote: @NinaHaspel Man sollte sich nur erreichbare Ziele setzen.\n",
      "\n",
      "The user Weil wir dich lieben at 2022-04-19 10:33:16+00:00 wrote: @Satulle We call it: Frühlingsgefühle.\n",
      "\n",
      "The user Weil wir dich lieben at 2022-04-19 09:52:13+00:00 wrote: @Schnipselschnf1 @SBahnBerlin Sag uns gerne, um welche Bahn und Uhrzeit es sich genau gehandelt hat, dann können wir das intern weitergeben.\n",
      "\n",
      "The user Weil wir dich lieben at 2022-04-19 09:51:18+00:00 wrote: @OomenBerlin @DB_Bahn Von wegen Servicewüste Deutschland.\n",
      "\n",
      "The user Weil wir dich lieben at 2022-04-19 09:50:04+00:00 wrote: @SukiViala In der Tat wäre es ideal gewesen direkt ein ABC Ticket zu kaufen. Wenn es für dich nicht ersichtlich ist, wie das in der App funktioniert gib uns gerne detailliertes Feedback dazu.\n",
      "\n",
      "The user Weil wir dich lieben at 2022-04-19 09:45:36+00:00 wrote: @SiBeFH Richtig: Kontrollpersonal muss beim Beginn des Kontrollvorganges den Kontrollausweis unaufgefordert vorzeigen.\n",
      "\n",
      "The user Weil wir dich lieben at 2022-04-19 09:38:36+00:00 wrote: 📸: @mirkosw\n",
      "\n",
      "The user Weil wir dich lieben at 2022-04-19 09:29:07+00:00 wrote: Für alle, die beim Radwechsel radlos sind. https://t.co/Pm2USFgat8\n",
      "\n",
      "The user Weil wir dich lieben at 2022-04-19 08:34:52+00:00 wrote: @Ersatz_Bus Auch unsere Busse müssen mal durchatmen.\n",
      "\n",
      "The user Weil wir dich lieben at 2022-04-19 08:14:16+00:00 wrote: @blampe @pavel @ShasuTalks Wir nehmen den Hinweis gern mal mit.\n",
      "\n",
      "The user Weil wir dich lieben at 2022-04-19 07:54:17+00:00 wrote: @bunchofnumberz @MissChocolatBee @pavel Wir bringen doch ne Menge auf's Gleis.\n",
      "\n",
      "The user Weil wir dich lieben at 2022-04-19 07:51:02+00:00 wrote: @KWeisenheim Einfach auch gerne mal sein lassen. Grüße, euer Putzteam.\n",
      "\n",
      "The user Weil wir dich lieben at 2022-04-19 07:49:30+00:00 wrote: @LustKrapfen Targeting at it's best.\n",
      "\n",
      "The user Weil wir dich lieben at 2022-04-19 07:48:18+00:00 wrote: @basgras If you travel together you should be able to buy tickets for you both.\n",
      "\n",
      "The user Weil wir dich lieben at 2022-04-19 07:46:48+00:00 wrote: @steener_8 Altes Berliner Sprichwort: Alle Wege führen nach Straße.\n",
      "\n",
      "The user Weil wir dich lieben at 2022-04-19 07:46:09+00:00 wrote: @Sionea_ @DenkenGerade Wir sind nicht erfreut und würden euch bitten immer Hinweise an uns zu geben, wenn ihr die seht.\n",
      "\n",
      "The user Weil wir dich lieben at 2022-04-19 07:45:40+00:00 wrote: @fckafdqd2022 Wo auch immer ihr die seht, gebt gern Bescheid.\n",
      "\n",
      "The user Weil wir dich lieben at 2022-04-19 07:44:21+00:00 wrote: @G0LLUM_DE Nope, per App oder im Kundenzentrum und bei Automaten kannst du ja nach wie vor einfach Tickets kaufen.\n",
      "\n",
      "The user Weil wir dich lieben at 2022-04-19 07:42:40+00:00 wrote: @maromuc Eigentlich dann auch direkt dreimal hintereinander.\n",
      "\n",
      "The user Weil wir dich lieben at 2022-04-19 07:42:32+00:00 wrote: @maromuc Eigentlich dann auch direkt dreimal hintereinander.\n",
      "\n",
      "The user Weil wir dich lieben at 2022-04-19 07:42:21+00:00 wrote: @maromuc Eigentlich dann auch direkt dreimal hintereinander.\n",
      "\n",
      "The user Weil wir dich lieben at 2022-04-19 07:41:38+00:00 wrote: @BikerPankow @vonjosbach @gruenewege Ja gab es von der DB Touch &amp; Travel und wurde 2016 eingestellt.\n",
      "\n",
      "The user Weil wir dich lieben at 2022-04-19 07:40:22+00:00 wrote: @ja_sicher Nein, aktuelle Störungen findest du immer unter: https://t.co/CYXD9fDxQ2?\n",
      "\n",
      "The user Weil wir dich lieben at 2022-04-19 07:38:56+00:00 wrote: @Mulinarius @visitberlin Mit Lichtgeschwindigkeit durch das Stargate in eine andere Galaxie.\n",
      "\n",
      "The user Weil wir dich lieben at 2022-04-19 07:37:44+00:00 wrote: @fluepke @Soeren_S Wir nehmen dich so wie du bist.\n",
      "\n",
      "The user Weil wir dich lieben at 2022-04-19 07:34:27+00:00 wrote: @Spacekonsta https://t.co/UgQuwIa2P4\n",
      "\n",
      "The user Weil wir dich lieben at 2022-04-19 07:07:18+00:00 wrote: @reyverzofficial Danke, wir wissen schon Bescheid.\n",
      "\n",
      "The user Weil wir dich lieben at 2022-04-19 07:06:26+00:00 wrote: @FredSmart13 Danke für den Hinweis! Gern immer Bescheid geben, falls ihr die irgendwo entdeckt.\n",
      "\n",
      "The user Weil wir dich lieben at 2022-04-19 07:04:40+00:00 wrote: @Silvio19599258 Danke für den Hinweis, geben wir weiter.\n",
      "\n",
      "The user Weil wir dich lieben at 2022-04-19 07:02:19+00:00 wrote: @freshfluke Urgs...danke für den Hinweis. Geben wir gleich an die Kolleg*innen. Gerne informieren, wann immer ihr auf die Sticker trefft. Danke.\n",
      "\n",
      "The user Weil wir dich lieben at 2022-04-19 07:00:45+00:00 wrote: @lazycuttlefish @jonworth @AndyBTravels We are currently working on the final terms for this ticket. As soon as we know we'll post infos on our channels.\n",
      "\n",
      "The user Weil wir dich lieben at 2022-04-19 06:58:18+00:00 wrote: @der_Herr_Horn Im Zweifel dann kein Zweifel.\n",
      "\n",
      "The user Weil wir dich lieben at 2022-04-19 06:57:10+00:00 wrote: @rosaVered @Emmanzipation Busfahrergrüße gehen raus.\n",
      "\n",
      "The user Weil wir dich lieben at 2022-04-19 06:55:56+00:00 wrote: @rumijr42 Please leave it there. We'd rather have a melancholic reminder of wild days than you on the tracks.\n",
      "\n",
      "The user Weil wir dich lieben at 2022-04-19 06:54:56+00:00 wrote: @RakuBLN Aber nicht jeder kann gut schnell laufen, da ist das doch eine willkommene Abwechslung.\n",
      "\n",
      "The user Weil wir dich lieben at 2022-04-19 06:54:01+00:00 wrote: @Sebastian_hurra Stark, ein scharfes Auge, dass du unsere Mimikry-Bahn erkannt hast. Dürfen wir das Bild vielleicht mit Nennung auf unseren Kanälen nutzen?\n",
      "\n",
      "The user Weil wir dich lieben at 2022-04-19 06:52:57+00:00 wrote: @Elf_X_Stacy Das ist Kunst, damit kann ich weg.\n",
      "\n",
      "The user Weil wir dich lieben at 2022-04-19 06:52:31+00:00 wrote: @G0LLUM_DE Das wird nicht so bald wiederkommen.\n",
      "\n",
      "The user Weil wir dich lieben at 2022-04-19 06:52:09+00:00 wrote: @maromuc BERLINER DIALEKT LOADING......\n",
      "\n",
      "The user Weil wir dich lieben at 2022-04-19 06:51:36+00:00 wrote: @antaramir Wir sind dran.\n",
      "\n",
      "The user Weil wir dich lieben at 2022-04-19 06:49:53+00:00 wrote: @acefrogge Na gut, weil du's bist: 😘\n",
      "\n",
      "The user Weil wir dich lieben at 2022-04-19 06:49:15+00:00 wrote: @dauerbaustelle @SenUMVKBerlin Bei uns fahren zwar viele einen Film, aber dafür können wir jetzt wirklich nichts.\n",
      "\n",
      "The user Weil wir dich lieben at 2022-04-19 06:48:08+00:00 wrote: @Bevi_Mich_Halt Du musst da was falsch verstanden haben beim Claim.\n",
      "\n",
      "The user Weil wir dich lieben at 2022-04-19 06:47:43+00:00 wrote: @hesselmann Meltdown? Wer kennt das nicht nach spätestens zwei Jahren Berlin.\n",
      "\n",
      "The user Weil wir dich lieben at 2022-04-19 06:40:54+00:00 wrote: @biesdorfer83 Für alle, die Retro wirklich ernst nehmen.\n",
      "\n",
      "The user Weil wir dich lieben at 2022-04-19 06:39:17+00:00 wrote: @Motorbiene0319 Gerade im Sommer stellen wir hauptsächlich Zugezogene ein.\n",
      "\n",
      "The user Weil wir dich lieben at 2022-04-19 06:38:40+00:00 wrote: @rotelocke @BVG_Bus Tradition muss sein, gerade an den Feiertagen.\n",
      "\n",
      "The user Weil wir dich lieben at 2022-04-19 06:37:27+00:00 wrote: @mildlydying123 Yes, we do: https://t.co/R51rt5W95X\n",
      "\n",
      "The user Weil wir dich lieben at 2022-04-17 09:31:21+00:00 wrote: 📸: @BReguided\n",
      "\n",
      "The user Weil wir dich lieben at 2022-04-17 07:00:01+00:00 wrote: Gilt bei uns das ganze Jahr: Eier immer gut verstecken. https://t.co/YA4psE4xiT\n",
      "\n",
      "The user Weil wir dich lieben at 2022-04-14 17:01:03+00:00 wrote: @pfeffienator @JPProeger Also wir sehen Radfahren immer noch als Einzeldisziplin und nicht als U-Bahn-Triathlon an.\n",
      "\n",
      "The user Weil wir dich lieben at 2022-04-14 16:54:36+00:00 wrote: @extradecoction You should still be able to make a screenshot and send it to the mentioned email address.\n",
      "\n",
      "The user Weil wir dich lieben at 2022-04-14 16:13:48+00:00 wrote: @bln_na @BVG_Tram Unser Kink ist halt eher: Maske auf dem Gesicht.\n",
      "\n",
      "The user Weil wir dich lieben at 2022-04-14 16:07:25+00:00 wrote: @sinafete @DrOetkerPizzaDE MIT DER PIZZA NICHT IN DEN ERSTEN WAGEN!!!\n",
      "\n",
      "The user Weil wir dich lieben at 2022-04-14 16:05:10+00:00 wrote: @LaraMeinunger Tatsächlich ist es so, dass das korrekte Tragen von Masken durch den Sicherheitsdienst kontrolliert wird. Dafür sind 250 Personen im Einsatz. Natürlich können diese aber nicht überall gleichzeitig sein. Die 3G-Regelung gibt es nicht mehr. Inzwischen gilt nur noch Maskenpflicht.\n",
      "\n",
      "The user Weil wir dich lieben at 2022-04-14 13:19:12+00:00 wrote: @thizzyamidala @BVG_Bus Haha also das kannst du hier alles genau nachstudieren: https://t.co/9tyRq1uFdf\n",
      "\n",
      "The user Weil wir dich lieben at 2022-04-14 11:35:45+00:00 wrote: @iak_custom In den Fahrzeugen gilt weiterhin FFP2-Pflicht.\n",
      "\n",
      "The user Weil wir dich lieben at 2022-04-14 09:26:54+00:00 wrote: @GrumpBi Fahrer wurde direkt abgemahnt!!\n",
      "\n",
      "The user Weil wir dich lieben at 2022-04-14 09:24:36+00:00 wrote: @VossVossy Kannst du uns das bitte mit mehr Infos hier melden: https://t.co/OgnK93Y2TM\n",
      "\n",
      "The user Weil wir dich lieben at 2022-04-14 09:13:19+00:00 wrote: @Maurice_2021 Ist natürlich nicht gültig, weil nicht laminiert. Aber dürften wir das vielleicht auf unseren Kanälen teilen mit Credits an dich?\n",
      "\n",
      "The user Weil wir dich lieben at 2022-04-14 09:06:50+00:00 wrote: @_zuzi_ Abmahnung an den Fahrer ist raus!\n",
      "\n",
      "The user Weil wir dich lieben at 2022-04-14 09:06:11+00:00 wrote: @paulvossiek @NilsDettmann Oder du löst dein Ticket einfach auf dem Weg zur Haltestelle bereits, da du die Absicht offenbar schon getroffen hast, die Reise anzutreten.\n",
      "\n",
      "The user Weil wir dich lieben at 2022-04-14 07:18:56+00:00 wrote: @Piratefuchs @BVG_Ubahn Aber bitte nicht mit dem Mistelzweig verwechseln und unbeteiligte Dritte küssen!\n",
      "\n",
      "The user Weil wir dich lieben at 2022-04-14 07:16:34+00:00 wrote: @anteos_ Aber bevor du die Scheidung einreichst, magst du uns dazu hier ein paar mehr Angaben machen? https://t.co/OgnK93Y2TM\n",
      "\n",
      "The user Weil wir dich lieben at 2022-04-14 07:15:50+00:00 wrote: @anteos_ Kennen viele so schon aus ihrer Ehe.\n",
      "\n",
      "The user Weil wir dich lieben at 2022-04-13 16:56:15+00:00 wrote: @Twittata Es tut uns ehrlich leid, aber wirklich nur dann ist das Ticket gültig. So kann die Zugehörigkeit 1:1 nachgewiesen werden.\n",
      "\n",
      "The user Weil wir dich lieben at 2022-04-13 16:54:40+00:00 wrote: @slurm_mckenzy @biesdorfer83 Ab ins Trainingszentrum!\n",
      "\n",
      "The user Weil wir dich lieben at 2022-04-13 16:48:54+00:00 wrote: @TobiasBringmann @BVG_Bus Jetzt ist das schon extra unsere Touristenbuslinie und nicht einmal da können sie kurz ins Guidebook schauen? Aber direkt hinter der vollen Rolltreppe gehts, wa? Meene Jüte ey.\n",
      "\n",
      "The user Weil wir dich lieben at 2022-04-13 16:47:31+00:00 wrote: @slurm_mckenzy @biesdorfer83 Auf ihn is Verlass.\n",
      "\n",
      "The user Weil wir dich lieben at 2022-04-13 16:47:09+00:00 wrote: @Twittata Wenn die Nummer nicht eingetragen wurde, ist der Fahrausweis leider wirklich ungültig.\n",
      "\n",
      "The user Weil wir dich lieben at 2022-04-13 16:46:37+00:00 wrote: @extradecoction Sorry for the inconvenience. Did you try to contact appsupport@bvg.de about it?\n",
      "\n",
      "The user Weil wir dich lieben at 2022-04-13 16:07:10+00:00 wrote: @freehippiegirl Das Beschwerdeformular sollte reichen, danke.\n",
      "\n",
      "The user Weil wir dich lieben at 2022-04-13 15:20:34+00:00 wrote: @freehippiegirl Wie an anderer Stelle geschrieben, der Vorfall tut uns leid. Wir würden dich bitten die Situation bei info@bvg.de zu schildern, damit wir den Kollegen ansprechen können.\n",
      "\n"
     ]
    }
   ],
   "source": [
    "for tweet in bvg_tweets.data:\n",
    "    print(f\"The user {user.name} at {tweet.created_at} wrote: {tweet.text}\\n\")\n",
    "    file = open('bvg_tweets.txt',mode='a', encoding='utf8')\n",
    "    file.write('\\n\\n'+tweet.text)\n",
    "    file.close()"
   ]
  },
  {
   "cell_type": "code",
   "execution_count": null,
   "id": "d4f77ab4",
   "metadata": {},
   "outputs": [],
   "source": []
  }
 ],
 "metadata": {
  "kernelspec": {
   "display_name": "Python 3 (ipykernel)",
   "language": "python",
   "name": "python3"
  },
  "language_info": {
   "codemirror_mode": {
    "name": "ipython",
    "version": 3
   },
   "file_extension": ".py",
   "mimetype": "text/x-python",
   "name": "python",
   "nbconvert_exporter": "python",
   "pygments_lexer": "ipython3",
   "version": "3.9.7"
  }
 },
 "nbformat": 4,
 "nbformat_minor": 5
}
